{
 "cells": [
  {
   "cell_type": "code",
   "execution_count": 1,
   "metadata": {
    "collapsed": true
   },
   "outputs": [],
   "source": [
    "from numpy import *\n",
    "import matplotlib.pyplot as plt\n",
    "import matplotlib"
   ]
  },
  {
   "cell_type": "code",
   "execution_count": 2,
   "metadata": {
    "collapsed": true
   },
   "outputs": [],
   "source": [
    "\n",
    "# 预处理数据\n",
    "def loadData(filename):\n",
    "    dataSet = []\n",
    "    fr = open(filename)\n",
    "    for line in fr.readlines():\n",
    "        curLine = line.strip().split(' ')\n",
    "        fltLine = list(map(float, curLine))\n",
    "        dataSet.append(fltLine)\n",
    "    return dataSet"
   ]
  },
  {
   "cell_type": "code",
   "execution_count": 3,
   "metadata": {
    "collapsed": true
   },
   "outputs": [],
   "source": [
    "# 高斯分布的概率密度函数\n",
    "def prob(x, mu, sigma):\n",
    "    n = shape(x)[1]\n",
    "    expOn = float(-0.5*(x-mu)*(sigma.I)*((x-mu).T))\n",
    "    divBy = pow(2*pi, n/2)*pow(linalg.det(sigma), 0.5)\n",
    "    return pow(e, expOn)/divBy"
   ]
  },
  {
   "cell_type": "code",
   "execution_count": 4,
   "metadata": {
    "collapsed": false
   },
   "outputs": [],
   "source": [
    "# EM算法\n",
    "def EM(dataMat, maxIter=50):\n",
    "    m, n = shape(dataMat)\n",
    "    # 初始化各高斯混合成分参数\n",
    "    alpha = [1/3, 1/3, 1/3]\n",
    "    mu = [dataMat[0, :], dataMat[2, :], dataMat[4, :]]\n",
    "    sigma = [mat([[0.1, 0], [0, 0.1]]) for x in range(3)]\n",
    "    gamma = mat(zeros((m, 3)))\n",
    "    print(\"Initialization of Alpha:\\n\",alpha,\"\\n\")\n",
    "    print(\"Initialization of mu:\\n\",mu,\"\\n\")\n",
    "    print(\"Initialization of sigma:\\n\",sigma,\"\\n\")\n",
    "    print(\"Initialization of gamma:\\n\",gamma,\"\\n\")\n",
    "    #for i in range(maxIter):\n",
    "    \n",
    "    print(\"Running EM Algo\")\n",
    "    print(\"Number of iterations:\",maxIter,\"\\n\")\n",
    "    for i in range(maxIter):\n",
    "        for j in range(m):\n",
    "            sumAlphaMulP = 0\n",
    "            for k in range(3):\n",
    "                gamma[j, k] = alpha[k]*prob(dataMat[j, :], mu[k], sigma[k])\n",
    "                sumAlphaMulP += gamma[j, k]\n",
    "            for k in range(3):\n",
    "                gamma[j, k] /= sumAlphaMulP\n",
    "        sumGamma = sum(gamma, axis=0)\n",
    "        print(\"Iteration {}:\\n gamma:\\n {}\\n sumGamma:\\n{}\\n\".format(i,gamma,sumGamma))\n",
    "        for k in range(3):\n",
    "            mu[k] = mat(zeros((1, n)))\n",
    "            sigma[k] = mat(zeros((n, n)))\n",
    "            for j in range(m):\n",
    "                mu[k] += gamma[j, k]*dataMat[j, :]\n",
    "            mu[k] /= sumGamma[0, k]\n",
    "            for j in range(m):\n",
    "                sigma[k] += gamma[j, k]*(dataMat[j, :]-mu[k]).T*(dataMat[j, :]-mu[k])\n",
    "            sigma[k] /= sumGamma[0, k]\n",
    "            alpha[k] = sumGamma[0, k]/m\n",
    "        print(\"\\nalpha:\\n{}\\n mu:\\n{}\\n sigma:\\n{}\\n\".format(i,alpha,mu,sigma))\n",
    "    #print(mu)\n",
    "    return gamma"
   ]
  },
  {
   "cell_type": "code",
   "execution_count": 5,
   "metadata": {
    "collapsed": true
   },
   "outputs": [],
   "source": [
    "def gaussianCluster(dataMat):\n",
    "    m, n = shape(dataMat)\n",
    "    print(\"Shape of Input Data:\\n\",m,n,\"\\n\")\n",
    "    # 每个样本的所属的簇，以及分到该簇对应的响应度\n",
    "    clusterAssign = mat(zeros((m, 2)))\n",
    "    gamma = EM(dataMat,2)\n",
    "    print(\"Returned Gamma after EM Algo:\\n\",gamma,\"\\n\")\n",
    "    for i in range(m):\n",
    "        # amx返回矩阵最大值，argmax返回矩阵最大值所在下标\n",
    "        clusterAssign[i,:] = argmax(gamma[i, :]), amax(gamma[i, :])\n",
    "    print(\"The cluster getting from gamma:\\n\",clusterAssign,\"\\n\")    \n",
    "    return clusterAssign"
   ]
  },
  {
   "cell_type": "code",
   "execution_count": 6,
   "metadata": {
    "collapsed": false,
    "scrolled": false
   },
   "outputs": [
    {
     "name": "stdout",
     "output_type": "stream",
     "text": [
      "Input data:\n",
      " [[ 0.001  0.001]\n",
      " [ 0.002 -0.002]\n",
      " [-0.001 -0.001]\n",
      " [-0.002 -0.002]\n",
      " [ 0.001 -0.001]\n",
      " [ 0.002  0.002]] \n",
      "\n",
      "Shape of Input Data:\n",
      " 6 2 \n",
      "\n",
      "Initialization of Alpha:\n",
      " [0.3333333333333333, 0.3333333333333333, 0.3333333333333333] \n",
      "\n",
      "Initialization of mu:\n",
      " [matrix([[ 0.001,  0.001]]), matrix([[-0.001, -0.001]]), matrix([[ 0.001, -0.001]])] \n",
      "\n",
      "Initialization of sigma:\n",
      " [matrix([[ 0.1,  0. ],\n",
      "        [ 0. ,  0.1]]), matrix([[ 0.1,  0. ],\n",
      "        [ 0. ,  0.1]]), matrix([[ 0.1,  0. ],\n",
      "        [ 0. ,  0.1]])] \n",
      "\n",
      "Initialization of gamma:\n",
      " [[ 0.  0.  0.]\n",
      " [ 0.  0.  0.]\n",
      " [ 0.  0.  0.]\n",
      " [ 0.  0.  0.]\n",
      " [ 0.  0.  0.]\n",
      " [ 0.  0.  0.]] \n",
      "\n",
      "Running EM Algo\n",
      "Number of iterations: 2 \n",
      "\n",
      "Iteration 0:\n",
      " gamma:\n",
      " [[ 0.33334     0.33332667  0.33333333]\n",
      " [ 0.33332889  0.33332889  0.33334222]\n",
      " [ 0.33332667  0.33334     0.33333333]\n",
      " [ 0.33332     0.33334667  0.33333333]\n",
      " [ 0.33333111  0.33333111  0.33333778]\n",
      " [ 0.33334667  0.33332     0.33333333]]\n",
      " sumGamma:\n",
      "[[ 1.99999333  1.99999333  2.00001333]]\n",
      "\n",
      "\n",
      "alpha:\n",
      "0\n",
      " mu:\n",
      "[0.33333222225308651, 0.33333222225308651, 0.33333555549382704]\n",
      " sigma:\n",
      "[matrix([[ 0.00050003, -0.00049996]]), matrix([[ 0.00049996, -0.00050003]]), matrix([[ 0.00050001, -0.00050001]])]\n",
      "\n",
      "Iteration 1:\n",
      " gamma:\n",
      " [[ 0.33334318  0.33332413  0.33333269]\n",
      " [ 0.33332561  0.33332561  0.33334878]\n",
      " [ 0.33332413  0.33334318  0.33333269]\n",
      " [ 0.33331561  0.3333537   0.33333069]\n",
      " [ 0.3333311   0.3333311   0.3333378 ]\n",
      " [ 0.3333537   0.33331561  0.33333069]]\n",
      " sumGamma:\n",
      "[[ 1.99999333  1.99999333  2.00001333]]\n",
      "\n",
      "\n",
      "alpha:\n",
      "1\n",
      " mu:\n",
      "[0.33333222226850534, 0.33333222226850534, 0.33333555546298932]\n",
      " sigma:\n",
      "[matrix([[ 0.00050004, -0.00049995]]), matrix([[ 0.00049995, -0.00050004]]), matrix([[ 0.00050001, -0.00050001]])]\n",
      "\n",
      "Returned Gamma after EM Algo:\n",
      " [[ 0.33334318  0.33332413  0.33333269]\n",
      " [ 0.33332561  0.33332561  0.33334878]\n",
      " [ 0.33332413  0.33334318  0.33333269]\n",
      " [ 0.33331561  0.3333537   0.33333069]\n",
      " [ 0.3333311   0.3333311   0.3333378 ]\n",
      " [ 0.3333537   0.33331561  0.33333069]] \n",
      "\n",
      "The cluster getting from gamma:\n",
      " [[ 0.          0.33334318]\n",
      " [ 2.          0.33334878]\n",
      " [ 1.          0.33334318]\n",
      " [ 1.          0.3333537 ]\n",
      " [ 2.          0.3333378 ]\n",
      " [ 0.          0.3333537 ]] \n",
      "\n"
     ]
    },
    {
     "data": {
      "image/png": "[encoded data removed]",
      "text/plain": [
       "<matplotlib.figure.Figure at 0x7a85dd8>"
      ]
     },
     "metadata": {},
     "output_type": "display_data"
    }
   ],
   "source": [
    "dataMat = mat(loadData('test1.txt'))\n",
    "print(\"Input data:\\n\",dataMat,\"\\n\")\n",
    "clusterAssign = gaussianCluster(dataMat)\n",
    "#print(clusterAssign)\n",
    "colors = [int(x) for x in clusterAssign[:,0]]\n",
    "#print(colors)\n",
    "#plt.plot(dataMat[:,0],dataMat[:,1],c = norm(colors));\n",
    "matplotlib.pyplot.scatter(dataMat[:,0],dataMat[:,1],c=colors, cmap='RdYlGn')\n",
    "plt.show();"
   ]
  },
  {
   "cell_type": "code",
   "execution_count": null,
   "metadata": {
    "collapsed": true
   },
   "outputs": [],
   "source": []
  }
 ],
 "metadata": {
  "anaconda-cloud": {},
  "kernelspec": {
   "display_name": "Python [conda root]",
   "language": "python",
   "name": "conda-root-py"
  },
  "language_info": {
   "codemirror_mode": {
    "name": "ipython",
    "version": 3
   },
   "file_extension": ".py",
   "mimetype": "text/x-python",
   "name": "python",
   "nbconvert_exporter": "python",
   "pygments_lexer": "ipython3",
   "version": "3.5.2"
  }
 },
 "nbformat": 4,
 "nbformat_minor": 1
}
